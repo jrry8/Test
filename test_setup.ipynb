{
 "cells": [
  {
   "cell_type": "code",
   "execution_count": 7,
   "metadata": {},
   "outputs": [
    {
     "name": "stdout",
     "output_type": "stream",
     "text": [
      "Accuracy: 93.05%\n",
      "[[580  35]\n",
      " [ 53 599]]\n"
     ]
    }
   ],
   "source": [
    "import numpy as np\n",
    "import pandas as pd\n",
    "import itertools\n",
    "from sklearn.model_selection import train_test_split\n",
    "from sklearn.feature_extraction.text import TfidfVectorizer\n",
    "from sklearn.linear_model import PassiveAggressiveClassifier\n",
    "from sklearn.metrics import accuracy_score, confusion_matrix\n",
    "\n",
    "# read data\n",
    "df = pd.read_csv('C:\\\\Users\\\\xujer\\\\Documents\\\\Projects\\\\Test\\\\news.csv')\n",
    "\n",
    "# get dimensions of data set\n",
    "df.shape\n",
    "\n",
    "# get first 5 news articles\n",
    "df.head()\n",
    "# get FAKE / REAL labels of the first 5 articles\n",
    "labels = df.label\n",
    "labels.head()\n",
    "\n",
    "# split the dataset into random train and test subsets\n",
    "# split into 80% for training and 20% for testing\n",
    "x_train, x_test, y_train, y_test = train_test_split(df['text'], labels, test_size=0.2, random_state=17)\n",
    "\n",
    "# initialize a TfidfVectorizer\n",
    "tfidf_vectorizer=TfidfVectorizer(stop_words='english', max_df=0.7)\n",
    "\n",
    "# fit and transform train set, transform test set\n",
    "tfidf_train=tfidf_vectorizer.fit_transform(x_train) \n",
    "tfidf_test=tfidf_vectorizer.transform(x_test)\n",
    "\n",
    "# initialize a PassiveAggressiveClassifier\n",
    "pac=PassiveAggressiveClassifier(max_iter=50)\n",
    "# fit on vectorized x_train and compare to target vector y_train\n",
    "pac.fit(tfidf_train, y_train)\n",
    "\n",
    "# use trained pac to predict on the test set and calculate accuracy\n",
    "y_pred=pac.predict(tfidf_test)\n",
    "score=accuracy_score(y_test, y_pred)\n",
    "print(f'Accuracy: {round(score*100,2)}%')\n",
    "\n",
    "# output:\n",
    "#   [[true positives, false negatives],\n",
    "#   [false positives, true negatives]]\n",
    "print(confusion_matrix(y_test, y_pred, labels=['FAKE','REAL']))\n"
   ]
  }
 ],
 "metadata": {
  "kernelspec": {
   "display_name": "testvenv",
   "language": "python",
   "name": "python3"
  },
  "language_info": {
   "codemirror_mode": {
    "name": "ipython",
    "version": 3
   },
   "file_extension": ".py",
   "mimetype": "text/x-python",
   "name": "python",
   "nbconvert_exporter": "python",
   "pygments_lexer": "ipython3",
   "version": "3.9.5"
  },
  "orig_nbformat": 4
 },
 "nbformat": 4,
 "nbformat_minor": 2
}
